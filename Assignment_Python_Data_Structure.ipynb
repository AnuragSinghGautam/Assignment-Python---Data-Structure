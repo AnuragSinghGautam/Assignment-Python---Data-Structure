{
  "nbformat": 4,
  "nbformat_minor": 0,
  "metadata": {
    "colab": {
      "provenance": []
    },
    "kernelspec": {
      "name": "python3",
      "display_name": "Python 3"
    },
    "language_info": {
      "name": "python"
    }
  },
  "cells": [
    {
      "cell_type": "markdown",
      "source": [
        "# 1. **Discuss string slicing and provide examples.**\n",
        "String slicing in Python is a technique to extract a part of a string using a range of indices. The syntax is string[start:stop:step], where:\n",
        "\n",
        " a.start is the beginning index of the slice (inclusive).\n",
        " b.stop is the ending index of the slice (exclusive).\n",
        " c.step defines the stride or increment between indices."
      ],
      "metadata": {
        "id": "-h8bAlj8H9hM"
      }
    },
    {
      "cell_type": "code",
      "source": [
        "s = \"Hello, World!\"\n",
        "print(s[0:5])  # Output: Hello"
      ],
      "metadata": {
        "colab": {
          "base_uri": "https://localhost:8080/"
        },
        "id": "g4H9HzYuGcQ2",
        "outputId": "94e29824-895e-4c2b-eb05-161ea36693a6"
      },
      "execution_count": null,
      "outputs": [
        {
          "output_type": "stream",
          "name": "stdout",
          "text": [
            "Hello\n"
          ]
        }
      ]
    },
    {
      "cell_type": "code",
      "source": [
        "print(s[7:12]) # Output: World\n"
      ],
      "metadata": {
        "colab": {
          "base_uri": "https://localhost:8080/"
        },
        "id": "hmFfIDVKGxrU",
        "outputId": "f821dd88-230c-4ded-fed5-fa8605767f31"
      },
      "execution_count": null,
      "outputs": [
        {
          "output_type": "stream",
          "name": "stdout",
          "text": [
            "World\n"
          ]
        }
      ]
    },
    {
      "cell_type": "markdown",
      "source": [
        "## 2. **Explain the key features of lists in Python.**\n",
        "\n",
        "Lists in Python are versatile, mutable collections that can hold an ordered sequence of elements. Key features include:\n",
        "\n",
        "    Ordered: Elements in a list maintain their order, meaning that the sequence in which elements are added is preserved.\n",
        "    Mutable: Lists can be modified after creation. You can add, remove, or change elements.\n",
        "    Dynamic: Lists can grow and shrink in size as needed. You can append or extend lists without worrying about a fixed size.\n",
        "    Heterogeneous: Lists can contain elements of different types, including integers, strings, and even other lists."
      ],
      "metadata": {
        "id": "onEJg9riIPE2"
      }
    },
    {
      "cell_type": "code",
      "source": [
        "lst = [1, \"hello\", 3.14, [4, 5]]\n"
      ],
      "metadata": {
        "id": "ZkOOZlKZI8yL"
      },
      "execution_count": null,
      "outputs": []
    },
    {
      "cell_type": "markdown",
      "source": [
        "# **3. Describe how to access, modify, and delete elements in a list with examples.**\n",
        "\n",
        "**Accessing Elements:**\n",
        "You can access elements in a list using their indices, with the first element at index 0.\n",
        "\n",
        "\n",
        "```\n",
        "lst = [1, 2, 3, 4, 5]\n",
        "print(lst[2])  \n",
        "#Here, lst[2] accesses the third element of the list, which is 3.\n",
        "```\n",
        "\n",
        "**Modifying Elements:**\n",
        "You can modify elements by assigning a new value to a specific index.\n",
        "\n",
        "\n",
        "```\n",
        "lst[2] = 10\n",
        "print(lst)  # Output: [1, 2, 10, 4, 5]\n",
        "#This changes the third element from 3 to 10.\n",
        "```\n",
        "\n",
        "**Deleting Elements:**\n",
        "You can delete elements using the del statement or the remove() method.\n",
        "\n",
        "\n",
        "```\n",
        "del lst[2]\n",
        "print(lst)  # Output: [1, 2, 4, 5]\n",
        "#This deletes the third element from the list.\n",
        "#Alternatively, you can use remove() to delete by value:\n",
        "```\n",
        "\n",
        "\n",
        "\n",
        "\n"
      ],
      "metadata": {
        "id": "-A8CXNsEJJCd"
      }
    },
    {
      "cell_type": "markdown",
      "source": [
        "# **4. Compare and contrast tuples and lists with examples.**\n",
        "\n",
        "Lists and tuples are both sequence types in Python, but they have key differences.\n",
        "\n",
        "**Lists:**\n",
        "\n",
        "    Mutable: Lists can be modified after creation. Elements can be added, removed, or changed.\n",
        "    Syntax: Lists are defined using square brackets [].\n",
        "    Usage: Ideal for collections of items that may need to be updated.\n",
        "\n",
        "\n",
        "```\n",
        "lst = [1, 2, 3]\n",
        "lst[1] = 5  # Modifying the second element\n",
        "print(lst)  # Output: [1, 5, 3]\n",
        "\n",
        "```\n",
        "**Tuples:**\n",
        "\n",
        "    Immutable: Tuples cannot be changed once created. This immutability makes tuples faster and their elements safe from modification.\n",
        "    Syntax: Tuples are defined using parentheses ().\n",
        "    Usage: Suitable for fixed collections of items that should not change, such as coordinates or records.\n",
        "\n",
        "\n",
        "```\n",
        "tup = (1, 2, 3)\n",
        "# tup[1] = 5  # This will raise a TypeError because tuples are immutable\n",
        "\n",
        "```\n",
        "**Comparison:**\n",
        "\n",
        "    Lists provide flexibility due to their mutability, making them useful for tasks requiring frequent updates.\n",
        "    Tuples provide performance benefits and are used when a constant set of values is required.\n",
        "\n",
        "\n"
      ],
      "metadata": {
        "id": "l6HJisOWafau"
      }
    },
    {
      "cell_type": "markdown",
      "source": [
        "# **5. Describe the key features of sets and provide examples of their use.**\n",
        "\n",
        "Sets in Python are collections of unordered, unique elements. They offer several key features:\n",
        "\n",
        "    Unordered: Sets do not maintain any particular order for their elements. This means you cannot index or slice sets.\n",
        "    Unique Elements: Sets automatically discard duplicate elements, ensuring all elements are unique.\n",
        "    Mutable: Sets can be modified after creation by adding or removing elements.\n",
        "    Efficient Operations: Sets support efficient membership testing, union, intersection, and difference operations.\n",
        "\n",
        "\n",
        "```\n",
        "s = {1, 2, 3, 4}\n",
        "s.add(5)\n",
        "print(s)  # Output: {1, 2, 3, 4, 5}  # Adding an element\n",
        "\n",
        "s.remove(3)\n",
        "print(s)  # Output: {1, 2, 4, 5}  # Removing an element\n",
        "\n",
        "```\n",
        "Sets are particularly useful for tasks involving uniqueness and membership testing. For example, they can be used to filter out duplicate items from a list or to perform fast checks to see if an item is in a collection.\n",
        "\n",
        "\n",
        "```\n",
        "lst = [1, 2, 2, 3, 4, 4, 5]\n",
        "unique_elements = set(lst)\n",
        "print(unique_elements)  # Output: {1, 2, 3, 4, 5}\n",
        "\n",
        "```\n",
        "This example converts a list with duplicate elements into a set of unique elements.\n",
        "\n",
        "\n",
        "\n"
      ],
      "metadata": {
        "id": "uZywYqHTa6ye"
      }
    },
    {
      "cell_type": "markdown",
      "source": [
        "# **6. Discuss the use cases of tuples and sets in Python programming.**\n",
        "\n",
        "**Tuples:**\n",
        "Tuples are useful when you need an immutable sequence of elements. Common use cases include:\n",
        "\n",
        "    Coordinates: Representing fixed pairs or triplets of values.\n",
        "\n",
        "    Function Return Values: Returning multiple values from a function.\n",
        "\n",
        "    Records: Storing simple, fixed collections of items, like a record from a database.\n",
        "\n",
        "\n",
        "```\n",
        "def get_min_max(data):\n",
        "    return (min(data), max(data))\n",
        "\n",
        "result = get_min_max([1, 2, 3, 4, 5])\n",
        "print(result)  \n",
        "\n",
        "```\n",
        "**Sets:**\n",
        "Sets are useful for tasks involving unique elements and membership testing. Common use cases include:\n",
        "\n",
        "    Removing Duplicates: Filtering out duplicate items from a collection.\n",
        "\n",
        "    Membership Testing: Quickly checking if an item is in a collection.\n",
        "\n",
        "    Set Operations: Performing mathematical set operations like union, intersection, and difference.\n",
        "\n",
        "\n",
        "```\n",
        "users_a = {\"Alice\", \"Bob\", \"Charlie\"}\n",
        "users_b = {\"Bob\", \"Dave\"}\n",
        "common_users = users_a.intersection(users_b)\n",
        "print(common_users)  # Output: {'Bob'}\n",
        "\n",
        "```\n",
        "\n",
        "\n"
      ],
      "metadata": {
        "id": "NCjAb931b1Xe"
      }
    },
    {
      "cell_type": "markdown",
      "source": [
        "# **7. Describe how to add, modify, and delete items in a dictionary with examples**\n",
        "\n",
        "**Add Items:**\n",
        "Adding items to a dictionary involves assigning a value to a new key.\n",
        "\n",
        "\n",
        "```\n",
        "d = {'a': 1, 'b': 2}\n",
        "d['c'] = 3\n",
        "print(d)\n",
        "```\n",
        "**Modify Items:**\n",
        "Modifying items in a dictionary involves changing the value associated with an existing key.\n",
        "\n",
        "\n",
        "```\n",
        "d['a'] = 10\n",
        "print(d)  \n",
        "```\n",
        "**Delete Items:**\n",
        "Deleting items can be done using the del statement or the pop() method.\n",
        "\n",
        "\n",
        "```\n",
        "del d['b']\n",
        "print(d)\n",
        "\n",
        "d.pop('a')\n",
        "print(d)  \n",
        "\n",
        "```\n",
        "Dictionaries are versatile for storing and manipulating key-value pairs, making them useful for tasks like data retrieval, configuration settings, and more.\n",
        "\n",
        "\n",
        "\n",
        "\n",
        "\n"
      ],
      "metadata": {
        "id": "feXo22C5cuA_"
      }
    },
    {
      "cell_type": "markdown",
      "source": [
        "# **8. Discuss the importance of dictionary keys being immutable and provide examples.**\n",
        "\n",
        "Dictionary keys must be immutable to ensure that the key’s hash value remains consistent. This consistency is crucial for the performance and reliability of dictionaries, which use hash tables to store and retrieve values quickly.\n",
        "\n",
        "**Importance:**\n",
        "\n",
        "    Hashing: Dictionaries rely on hashing for fast access. Immutable keys ensure the hash value doesn’t change, enabling efficient lookups.\n",
        "    Data Integrity: Immutable keys prevent accidental changes that could corrupt the dictionary’s structure.\n",
        "\n",
        "**Examples:**\n",
        "Valid keys include strings, numbers, and tuples:\n",
        "\n",
        "\n",
        "```\n",
        "d = {'name': 'Alice', 42: 'age', (1, 2): 'coordinates'}\n",
        "\n",
        "```\n",
        "Here 'name', 42, and (1, 2) are all immutable and valid dictionary keys.\n",
        "\n",
        "Invalid keys include lists or other dictionaries\n"
      ],
      "metadata": {
        "id": "nMmJsLqydSC5"
      }
    }
  ]
}